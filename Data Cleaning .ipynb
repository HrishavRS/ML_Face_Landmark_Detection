{
 "cells": [
  {
   "cell_type": "code",
   "execution_count": 5,
   "metadata": {},
   "outputs": [],
   "source": [
    "import pandas as pd\n",
    "import numpy as np\n",
    "from sklearn.model_selection import train_test_split\n",
    "import os"
   ]
  },
  {
   "cell_type": "code",
   "execution_count": null,
   "metadata": {},
   "outputs": [],
   "source": [
    "os.chdir(\"E:\\KU\\Project ML\")\n",
    "facial_keypoints = pd.read_csv( \"Another/facial_keypoints.csv\")\n",
    "num_missing_keypoints = facial_keypoints.isnull().sum( axis=1 )\n",
    "all_keypoints_present_ids = np.nonzero( num_missing_keypoints == 0 )[ 0 ]\n",
    "\n",
    "d = np.load( \"face_images.npz\")\n",
    "dataset = d[ 'face_images' ].T\n",
    "dataset = np.reshape( dataset , ( -1 , 96 , 96 , 1 ) )\n",
    "\n",
    "images = dataset[  all_keypoints_present_ids , : , : , : ]\n",
    "keypoints = facial_keypoints.iloc[ all_keypoints_present_ids , : ].reset_index( drop=True ).values\n"
   ]
  },
  {
   "cell_type": "code",
   "execution_count": null,
   "metadata": {},
   "outputs": [],
   "source": [
    "x_train, x_test, y_train, y_test = train_test_split( images , keypoints , test_size=0.3 )"
   ]
  },
  {
   "cell_type": "code",
   "execution_count": null,
   "metadata": {},
   "outputs": [],
   "source": [
    "\n",
    "np.save( \"processed_data/x_train.npy\" , x_train )\n",
    "np.save( \"processed_data/y_train.npy\" , y_train )\n",
    "np.save( \"processed_data/x_test.npy\" , x_test )\n",
    "np.save( \"processed_data/y_test.npy\" , y_test )"
   ]
  }
 ],
 "metadata": {
  "kernelspec": {
   "display_name": "Python 3",
   "language": "python",
   "name": "python3"
  },
  "language_info": {
   "codemirror_mode": {
    "name": "ipython",
    "version": 3
   },
   "file_extension": ".py",
   "mimetype": "text/x-python",
   "name": "python",
   "nbconvert_exporter": "python",
   "pygments_lexer": "ipython3",
   "version": "3.8.5"
  }
 },
 "nbformat": 4,
 "nbformat_minor": 4
}
