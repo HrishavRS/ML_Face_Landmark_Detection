{
 "cells": [
  {
   "cell_type": "code",
   "execution_count": 3,
   "metadata": {},
   "outputs": [],
   "source": [
    "import os\n",
    "import tensorflow as tf\n",
    "import numpy as np\n",
    "from tensorflow.keras.models import Sequential\n",
    "from tensorflow.keras.layers import SeparableConv2D,BatchNormalization,Activation"
   ]
  },
  {
   "cell_type": "code",
   "execution_count": 4,
   "metadata": {},
   "outputs": [],
   "source": [
    "os.chdir(\"E:\\KU\\Project ML\\Another\")"
   ]
  },
  {
   "cell_type": "code",
   "execution_count": 5,
   "metadata": {},
   "outputs": [],
   "source": [
    "x_train = np.load( \"datasets/x_train.npy\" ) / 255\n",
    "y_train = np.load( \"datasets/y_train.npy\" ) / 96\n",
    "x_test = np.load( \"datasets/x_test.npy\" ) / 255\n",
    "y_test = np.load( \"datasets/y_test.npy\" ) / 96\n",
    "\n",
    "y_train = np.reshape( y_train , ( -1 , 1 , 1 , 30 ))\n",
    "y_test = np.reshape( y_test , ( -1 , 1 , 1 , 30 ))"
   ]
  },
  {
   "cell_type": "code",
   "execution_count": 6,
   "metadata": {},
   "outputs": [],
   "source": [
    "model=Sequential()\n",
    "model.add(SeparableConv2D(128,input_shape=(96,96,1),kernel_size=(5,5),strides=1))\n",
    "model.add(BatchNormalization())\n",
    "model.add(Activation(\"relu\"))\n",
    "model.add(SeparableConv2D(128,kernel_size=(5,5),strides=1))\n",
    "model.add(BatchNormalization())\n",
    "model.add(Activation(\"relu\"))\n",
    "\n",
    "model.add(SeparableConv2D(128,kernel_size=(5,5),strides=1,activation=\"relu\"))\n",
    "model.add(SeparableConv2D(128,kernel_size=(5,5),strides=1,activation=\"relu\"))\n",
    "\n",
    "model.add(SeparableConv2D(128,kernel_size=(5,5),strides=1))\n",
    "model.add(BatchNormalization())\n",
    "model.add(Activation(\"relu\"))\n",
    "model.add(SeparableConv2D(128,kernel_size=(5,5),strides=1))\n",
    "model.add(BatchNormalization())\n",
    "model.add(Activation(\"relu\"))\n",
    "\n",
    "\n",
    "model.add(SeparableConv2D(128,kernel_size=(5,5),strides=1,activation=\"relu\"))\n",
    "model.add(SeparableConv2D(128,kernel_size=(5,5),strides=1,activation=\"relu\"))\n",
    "\n",
    "model.add(SeparableConv2D(128,kernel_size=(5,5),strides=1))\n",
    "model.add(BatchNormalization())\n",
    "model.add(Activation(\"relu\"))\n",
    "model.add(SeparableConv2D(128,kernel_size=(5,5),strides=1))\n",
    "model.add(BatchNormalization())\n",
    "model.add(Activation(\"relu\"))\n",
    "\n",
    "\n",
    "model.add(SeparableConv2D(64,kernel_size=(5,5),strides=1,activation=\"relu\"))\n",
    "model.add(SeparableConv2D(64,kernel_size=(5,5),strides=1,activation=\"relu\"))\n",
    "\n",
    "model.add(SeparableConv2D(64,kernel_size=(5,5),strides=1))\n",
    "model.add(BatchNormalization())\n",
    "model.add(Activation(\"relu\"))\n",
    "model.add(SeparableConv2D(64,kernel_size=(5,5),strides=1))\n",
    "model.add(BatchNormalization())\n",
    "model.add(Activation(\"relu\"))\n",
    "\n",
    "model.add(SeparableConv2D(64,kernel_size=(3,3),strides=1,activation=\"relu\"))\n",
    "model.add(SeparableConv2D(64,kernel_size=(3,3),strides=1,activation=\"relu\"))\n",
    "\n",
    "model.add(SeparableConv2D(64,kernel_size=(3,3),strides=1,activation=\"relu\"))\n",
    "model.add(SeparableConv2D(64,kernel_size=(3,3),strides=1,activation=\"relu\"))\n",
    "\n",
    "\n",
    "model.add(SeparableConv2D(64,kernel_size=(3,3),strides=1,activation=\"relu\"))\n",
    "model.add(SeparableConv2D(64,kernel_size=(3,3),strides=1,activation=\"relu\"))\n",
    "\n",
    "model.add(SeparableConv2D(32,kernel_size=(3,3),strides=1,activation=\"relu\"))\n",
    "model.add(SeparableConv2D(32,kernel_size=(3,3),strides=1,activation=\"relu\"))\n",
    "\n",
    "model.add(SeparableConv2D(32,kernel_size=(3,3),strides=1,activation=\"relu\"))\n",
    "model.add(SeparableConv2D(32,kernel_size=(3,3),strides=1,activation=\"relu\"))\n",
    "\n",
    "model.add(SeparableConv2D(32,kernel_size=(3,3),strides=1,activation=\"relu\"))\n",
    "model.add(SeparableConv2D(32,kernel_size=(3,3),strides=1,activation=\"relu\"))\n",
    "\n",
    "model.add(SeparableConv2D(32,kernel_size=(3,3),strides=1,activation=\"relu\"))\n",
    "model.add(SeparableConv2D(32,kernel_size=(3,3),strides=1,activation=\"relu\"))\n",
    "\n",
    "model.add(SeparableConv2D(32,kernel_size=(3,3),strides=1,activation=\"relu\"))\n",
    "model.add(SeparableConv2D(32,kernel_size=(3,3),strides=1,activation=\"relu\"))\n",
    "\n",
    "model.add(SeparableConv2D(32,kernel_size=(3,3),strides=1,activation=\"relu\"))\n",
    "model.add(SeparableConv2D(32,kernel_size=(2,2),strides=1,activation=\"relu\"))\n",
    "\n",
    "model.add(SeparableConv2D(30,kernel_size=(2,2),strides=1,activation=\"relu\"))\n",
    "model.add(SeparableConv2D(30,kernel_size=(2,2),strides=1,activation=\"relu\"))\n",
    "model.add(SeparableConv2D(30,kernel_size=(2,2),strides=1,activation=\"relu\"))\n",
    "model.add(SeparableConv2D(30,kernel_size=(2,2),strides=1,activation=\"sigmoid\"))\n",
    "\n",
    "model.compile( loss='mean_squared_error',optimizer=tf.keras.optimizers.Adam( lr=0.0001 ) , metrics=[ 'mse' ] )"
   ]
  },
  {
   "cell_type": "code",
   "execution_count": null,
   "metadata": {},
   "outputs": [],
   "source": [
    "model.fit( x_train , y_train , epochs=25 , batch_size=50 , validation_data=( x_test , y_test ) )"
   ]
  }
 ],
 "metadata": {
  "kernelspec": {
   "display_name": "Python 3",
   "language": "python",
   "name": "python3"
  },
  "language_info": {
   "codemirror_mode": {
    "name": "ipython",
    "version": 3
   },
   "file_extension": ".py",
   "mimetype": "text/x-python",
   "name": "python",
   "nbconvert_exporter": "python",
   "pygments_lexer": "ipython3",
   "version": "3.8.5"
  }
 },
 "nbformat": 4,
 "nbformat_minor": 4
}
